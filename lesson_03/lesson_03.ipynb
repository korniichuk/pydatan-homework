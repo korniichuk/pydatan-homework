{
 "cells": [
  {
   "cell_type": "markdown",
   "metadata": {},
   "source": [
    "# Многопоточность в Python"
   ]
  },
  {
   "cell_type": "markdown",
   "metadata": {},
   "source": [
    "1. [Поток и процесс. Создание нитей и процессов](#process)\n",
    "2. [Передача данных между потоками при помощи pipe и общей памяти](#gen)\n",
    "3. [GIL](#GIL)\n",
    "5. [Асинхронное выполнение потоков](#asynchronous)\n",
    "6. [Библиотеки threading, multiprocessing и asyncio](#threading)"
   ]
  },
  {
   "cell_type": "markdown",
   "metadata": {},
   "source": [
    "## 1. Поток и процесс. Создание нитей и процессов <a name=\"process\"></a>"
   ]
  },
  {
   "cell_type": "code",
   "execution_count": 1,
   "metadata": {},
   "outputs": [
    {
     "data": {
      "text/plain": [
       "139835142567680"
      ]
     },
     "execution_count": 1,
     "metadata": {},
     "output_type": "execute_result"
    },
    {
     "name": "stdout",
     "output_type": "stream",
     "text": [
      "Thread #1: Wed Mar 24 16:04:48 2021\n",
      "Thread #2: Wed Mar 24 16:04:49 2021Thread #1: Wed Mar 24 16:04:49 2021\n",
      "\n",
      "Thread #1: Wed Mar 24 16:04:50 2021\n",
      "Thread #2: Wed Mar 24 16:04:51 2021\n",
      "Thread #1: Wed Mar 24 16:04:51 2021\n",
      "Thread #2: Wed Mar 24 16:04:53 2021\n",
      "Thread #2: Wed Mar 24 16:04:55 2021\n"
     ]
    }
   ],
   "source": [
    "import _thread\n",
    "import time\n",
    "\n",
    "def print_time(thread_name, delay):\n",
    "   count = 0\n",
    "   while count < 4:\n",
    "      time.sleep(delay)\n",
    "      count += 1\n",
    "      print(\"%s: %s\" % (thread_name, time.ctime(time.time())))\n",
    "\n",
    "_thread.start_new_thread(print_time, ('Thread #1', 1))\n",
    "_thread.start_new_thread(print_time, ('Thread #2', 2))"
   ]
  },
  {
   "cell_type": "markdown",
   "metadata": {},
   "source": [
    "### Запуск потока с применением threading"
   ]
  },
  {
   "cell_type": "code",
   "execution_count": 2,
   "metadata": {},
   "outputs": [],
   "source": [
    "import threading\n",
    "import time\n",
    "\n",
    "import sympy\n",
    "\n",
    "class MyThread(threading.Thread):\n",
    "    def __init__(self, x):\n",
    "        threading.Thread.__init__(self)\n",
    "        self.x = x\n",
    "\n",
    "    def run(self):\n",
    "        time.sleep(1)\n",
    "        print('Is {} prime: {}'.format(self.x, sympy.isprime(self.x)))"
   ]
  },
  {
   "cell_type": "code",
   "execution_count": 3,
   "metadata": {},
   "outputs": [
    {
     "name": "stdout",
     "output_type": "stream",
     "text": [
      "Is 2 prime: TrueIs 193 prime: True\n",
      "Is 1327 prime: True\n",
      "\n",
      "Is 323 prime: False\n",
      "Is 433785907 prime: True\n",
      "done\n"
     ]
    }
   ],
   "source": [
    "my_input = [2, 193, 323, 1327, 433785907]\n",
    "\n",
    "threads = []\n",
    "\n",
    "for x in my_input:\n",
    "    temp_thread = MyThread(x)\n",
    "    temp_thread.start()\n",
    "    threads.append(temp_thread)\n",
    "\n",
    "for thread in threads:\n",
    "    thread.join()  # wait until the thread terminates\n",
    "\n",
    "print('done')"
   ]
  },
  {
   "cell_type": "markdown",
   "metadata": {},
   "source": [
    "## 2. Передача данных между потоками при помощи pipe и общей памяти <a name=\"gen\"></a>"
   ]
  },
  {
   "cell_type": "markdown",
   "metadata": {},
   "source": [
    "### Queue"
   ]
  },
  {
   "cell_type": "markdown",
   "metadata": {},
   "source": [
    "Queue предоставляет нам механизм взаимодействия потоков между процессами FIFO (первым пришел — первым обслужен)."
   ]
  },
  {
   "cell_type": "code",
   "execution_count": 4,
   "metadata": {},
   "outputs": [
    {
     "name": "stdout",
     "output_type": "stream",
     "text": [
      "[42, None, 'hello']\n"
     ]
    }
   ],
   "source": [
    "from multiprocessing import Process, Queue\n",
    "import random\n",
    "\n",
    "def func(queue):\n",
    "    queue.put([42, None, 'hello'])\n",
    "\n",
    "queue = Queue()\n",
    "p = Process(target=func, args=(queue,))\n",
    "p.start()\n",
    "print(queue.get())"
   ]
  },
  {
   "cell_type": "markdown",
   "metadata": {},
   "source": [
    "### Pipe"
   ]
  },
  {
   "cell_type": "markdown",
   "metadata": {},
   "source": [
    "Это структура данных, которая используется для связи между процессами в многопроцессорных программах. Функция Pipe() возвращает пару объектов соединения, соединенных каналом, который по умолчанию является дуплексным (двухсторонним). Работа Pipe происходит следующим образом. Pipe возвращает пару объектов соединения, которые представляют два конца канала. У каждого объекта есть два метода — send() и recv() для взаимодействия между процессами."
   ]
  },
  {
   "cell_type": "code",
   "execution_count": 5,
   "metadata": {},
   "outputs": [
    {
     "name": "stdout",
     "output_type": "stream",
     "text": [
      "[42, None, 'hello']\n",
      "process2 done\n",
      "main process done\n"
     ]
    }
   ],
   "source": [
    "from multiprocessing import Process, Pipe\n",
    "import time\n",
    "\n",
    "def process2(conn):\n",
    "    conn.send([42, None, 'hello'])\n",
    "    time.sleep(1)\n",
    "    print('process2 done')\n",
    "    conn.close()\n",
    "\n",
    "parent_conn, child_conn = Pipe()\n",
    "p = Process(target=process2, args=(child_conn,))\n",
    "p.start()\n",
    "print(parent_conn.recv())\n",
    "p.join()  # blocks until the process2 terminates\n",
    "\n",
    "print('main process done')"
   ]
  },
  {
   "cell_type": "markdown",
   "metadata": {},
   "source": [
    "### Менеджер\n",
    "**Менеджер** — это класс многопроцессорных модулей, который обеспечивает способ координации общей информации между всеми его пользователями. Управляющий объект управляет процессом сервера, который управляет общими объектами и позволяет другим процессам манипулировать ими. Другими словами, менеджеры предоставляют способ создавать данные, которые могут быть разделены между различными процессами.  \n",
    "Основным свойством менеджера является управление серверным процессом, который управляет общими объектами.  \n",
    "Другим важным свойством является обновление всех общих объектов, когда какой-либо процесс изменяет их."
   ]
  },
  {
   "cell_type": "code",
   "execution_count": 6,
   "metadata": {},
   "outputs": [
    {
     "name": "stdout",
     "output_type": "stream",
     "text": [
      "('English', 3) record added\n",
      "Name: Computers\n",
      "Score: 1\n",
      "Name: Histoty\n",
      "Score: 5\n",
      "Name: Hindi\n",
      "Score: 9\n",
      "Name: English\n",
      "Score: 3\n"
     ]
    }
   ],
   "source": [
    "import multiprocessing\n",
    "\n",
    "def insert_record(record, records):\n",
    "    records.append(record)\n",
    "    print('{} record added'.format(record))\n",
    "    \n",
    "def print_records(records):\n",
    "    for record in records:\n",
    "        print(\"Name: {0}\\nScore: {1}\".format(record[0], record[1]))\n",
    "\n",
    "with multiprocessing.Manager() as manager:\n",
    "    records = manager.list([('Computers', 1), ('Histoty', 5), ('Hindi', 9)])\n",
    "    new_record = ('English', 3)\n",
    "    p1 = multiprocessing.Process(target=insert_record, args=(new_record, records))\n",
    "    p2 = multiprocessing.Process(target=print_records, args=(records,))\n",
    "    p1.start()\n",
    "    p1.join()\n",
    "    p2.start()\n",
    "    p2.join()"
   ]
  },
  {
   "cell_type": "markdown",
   "metadata": {},
   "source": [
    "Использование пространства имен для обмена данными между основным процессом и дочерним процессом."
   ]
  },
  {
   "cell_type": "code",
   "execution_count": 7,
   "metadata": {},
   "outputs": [
    {
     "name": "stdout",
     "output_type": "stream",
     "text": [
      "Before: Namespace(x=1, y=1)\n",
      "After: Namespace(x=6, y=10)\n"
     ]
    }
   ],
   "source": [
    "import multiprocessing\n",
    "\n",
    "def func(using_ns):\n",
    "    \n",
    "    using_ns.x += 5\n",
    "    using_ns.y *= 10\n",
    "\n",
    "manager = multiprocessing.Manager()\n",
    "using_ns = manager.Namespace()\n",
    "using_ns.x = 1\n",
    "using_ns.y = 1\n",
    "    \n",
    "print ('Before:', using_ns)\n",
    "p = multiprocessing.Process(target=func, args=(using_ns,))\n",
    "p.start()\n",
    "p.join()\n",
    "print ('After:', using_ns)"
   ]
  },
  {
   "cell_type": "markdown",
   "metadata": {},
   "source": [
    "### Ctypes-Array и Value\n",
    "Многопроцессорный модуль предоставляет объекты Array и Value для хранения данных в карте общей памяти. Массив — это массив ctypes, выделенный из общей памяти, а Value — объект ctypes, выделенный из общей памяти."
   ]
  },
  {
   "cell_type": "code",
   "execution_count": 8,
   "metadata": {},
   "outputs": [
    {
     "name": "stdout",
     "output_type": "stream",
     "text": [
      "3.1415927\n",
      "[0, -1, -2, -3, -4, -5, -6, -7, -8, -9]\n"
     ]
    }
   ],
   "source": [
    "import multiprocessing\n",
    "\n",
    "def func(n, a):\n",
    "    n.value = 3.1415927\n",
    "    for i in range(len(a)):\n",
    "        a[i] = -a[i]\n",
    "\n",
    "num = multiprocessing.Value('d', 0.0)\n",
    "arr = multiprocessing.Array('i', range(10))\n",
    "    \n",
    "p = multiprocessing.Process(target=func, args=(num, arr))\n",
    "p.start()\n",
    "p.join()\n",
    "print(num.value)\n",
    "print(arr[:])"
   ]
  },
  {
   "cell_type": "markdown",
   "metadata": {},
   "source": [
    "### Библиотека PyCSP"
   ]
  },
  {
   "cell_type": "code",
   "execution_count": null,
   "metadata": {},
   "outputs": [],
   "source": [
    "!pip3 install --user --quiet pycsp"
   ]
  },
  {
   "cell_type": "markdown",
   "metadata": {},
   "source": [
    "Пример запуска двух процессов параллельно друг другу."
   ]
  },
  {
   "cell_type": "code",
   "execution_count": 9,
   "metadata": {},
   "outputs": [
    {
     "name": "stdout",
     "output_type": "stream",
     "text": [
      "P1 exitingP2 exiting\n",
      "\n",
      "done\n"
     ]
    }
   ],
   "source": [
    "import time\n",
    "\n",
    "from pycsp.parallel import *\n",
    "\n",
    "@process\n",
    "def P1():\n",
    "   time.sleep(1)\n",
    "   print('P1 exiting')\n",
    "    \n",
    "@process\n",
    "def P2():\n",
    "   time.sleep(1)\n",
    "   print('P2 exiting')\n",
    "    \n",
    "Parallel(P1(), P2())\n",
    "print('done')"
   ]
  },
  {
   "cell_type": "markdown",
   "metadata": {},
   "source": [
    "## 3. GIL <a name=\"GIL\"></a>"
   ]
  },
  {
   "cell_type": "markdown",
   "metadata": {},
   "source": [
    "Python **Global Interpreter Lock (GIL)** — это своеобразная блокировка, позволяющая только одному потоку управлять интерпретатором Python. "
   ]
  },
  {
   "cell_type": "markdown",
   "metadata": {},
   "source": [
    "Пример кода, демонстрирующий работу переменных подсчёта ссылок:"
   ]
  },
  {
   "cell_type": "code",
   "execution_count": 10,
   "metadata": {},
   "outputs": [
    {
     "data": {
      "text/plain": [
       "40"
      ]
     },
     "execution_count": 10,
     "metadata": {},
     "output_type": "execute_result"
    }
   ],
   "source": [
    "import os\n",
    "\n",
    "os.cpu_count()"
   ]
  },
  {
   "cell_type": "code",
   "execution_count": 11,
   "metadata": {},
   "outputs": [
    {
     "data": {
      "text/plain": [
       "0.005"
      ]
     },
     "execution_count": 11,
     "metadata": {},
     "output_type": "execute_result"
    }
   ],
   "source": [
    "import sys\n",
    "\n",
    "sys.getswitchinterval()"
   ]
  },
  {
   "cell_type": "code",
   "execution_count": 12,
   "metadata": {},
   "outputs": [
    {
     "name": "stdout",
     "output_type": "stream",
     "text": [
      "2\n",
      "3\n"
     ]
    }
   ],
   "source": [
    "import sys\n",
    "\n",
    "a = []\n",
    "print(sys.getrefcount(a))\n",
    "\n",
    "b = a\n",
    "print(sys.getrefcount(a))"
   ]
  },
  {
   "cell_type": "markdown",
   "metadata": {},
   "source": [
    "Несложная CPU-bound программа, которая ведёт обратный отсчёт:"
   ]
  },
  {
   "cell_type": "code",
   "execution_count": 13,
   "metadata": {},
   "outputs": [
    {
     "name": "stdout",
     "output_type": "stream",
     "text": [
      "Затраченное время: 2.2816755771636963\n"
     ]
    }
   ],
   "source": [
    "import time\n",
    "from threading import Thread\n",
    "\n",
    "n = 50000000\n",
    "\n",
    "def countdown(n):\n",
    "    while n > 0:\n",
    "        n -= 1\n",
    "\n",
    "start = time.time()\n",
    "countdown(n)\n",
    "end = time.time()\n",
    "delta = end - start\n",
    "print('Затраченное время:', delta)"
   ]
  },
  {
   "cell_type": "markdown",
   "metadata": {},
   "source": [
    "Реализация обратного отсчёта ведётся в 4 параллельных потоках:"
   ]
  },
  {
   "cell_type": "code",
   "execution_count": 14,
   "metadata": {},
   "outputs": [
    {
     "name": "stdout",
     "output_type": "stream",
     "text": [
      "Затраченное время: 1.1415107250213623\n"
     ]
    }
   ],
   "source": [
    "t1 = Thread(target=countdown, args=(n//4,))\n",
    "t2 = Thread(target=countdown, args=(n//4,))\n",
    "t3 = Thread(target=countdown, args=(n//4,))\n",
    "t4 = Thread(target=countdown, args=(n//4,))\n",
    "\n",
    "start = time.time()\n",
    "t1.start()\n",
    "t2.start()\n",
    "t1.join()\n",
    "t2.join()\n",
    "end = time.time()\n",
    "delta = end - start\n",
    "print('Затраченное время:', delta)"
   ]
  },
  {
   "cell_type": "markdown",
   "metadata": {},
   "source": [
    "## 4. Асинхронное выполнение потоков <a name=\"asynchronous\"></a>"
   ]
  },
  {
   "cell_type": "markdown",
   "metadata": {},
   "source": [
    "Асинхронная программа может одновременно обрабатывать задачи, но ее контекст переключается внутри, а не системным планировщиком."
   ]
  },
  {
   "cell_type": "markdown",
   "metadata": {},
   "source": [
    "## 5. Библиотеки threading, multiprocessing и asyncio <a name=\"threading\"></a>"
   ]
  },
  {
   "cell_type": "code",
   "execution_count": 15,
   "metadata": {},
   "outputs": [
    {
     "name": "stdout",
     "output_type": "stream",
     "text": [
      "The name of continent is  America\n",
      "The name of continent is  Europe\n",
      "The name of continent is  Asia\n",
      "The name of continent is  Africa\n"
     ]
    }
   ],
   "source": [
    "from multiprocessing import Process\n",
    "\n",
    "def print_func(continent='Asia'):\n",
    "    print('The name of continent is ', continent)\n",
    "\n",
    "names = ['America', 'Europe', 'Africa']\n",
    "\n",
    "procs = []\n",
    "proc = Process(target=print_func)  # instantiating w/o any argument\n",
    "procs.append(proc)\n",
    "proc.start()\n",
    "\n",
    "# Instantiating process with arguments\n",
    "for name in names:\n",
    "    proc = Process(target=print_func, args=(name,))\n",
    "    procs.append(proc)\n",
    "    proc.start()\n",
    "\n",
    "# Complete the processes\n",
    "for proc in procs:\n",
    "    proc.join()"
   ]
  },
  {
   "cell_type": "code",
   "execution_count": 16,
   "metadata": {},
   "outputs": [
    {
     "name": "stdout",
     "output_type": "stream",
     "text": [
      "Searching Dear prefix...\n",
      "Dear James\n",
      "Closing coroutine!\n"
     ]
    }
   ],
   "source": [
    "def print_name(prefix):\n",
    "    print('Searching {} prefix...'.format(prefix))\n",
    "    try: \n",
    "        while True:\n",
    "            # yeild used to create coroutine\n",
    "            name = (yield)\n",
    "            if prefix in name:\n",
    "                print(name)\n",
    "    except GeneratorExit:\n",
    "        print('Closing coroutine!')\n",
    "            \n",
    "corou = print_name('Dear')\n",
    "corou.__next__()\n",
    "corou.send('James')  # nothing\n",
    "corou.send('Dear James')  # print 'Dear James'\n",
    "corou.close()"
   ]
  },
  {
   "cell_type": "markdown",
   "metadata": {},
   "source": [
    "Пример в котором запускаем 3 асинхронных таска, которые по-отдельности делают запросы к Reddit, извлекают и выводят содержимое JSON. Библиотекф aiohttp гарантирует, что HTTP-запрос будет выполнен асинхронно."
   ]
  },
  {
   "cell_type": "code",
   "execution_count": null,
   "metadata": {},
   "outputs": [],
   "source": [
    "!pip3 install --user --quiet aiohttp"
   ]
  },
  {
   "cell_type": "code",
   "execution_count": 17,
   "metadata": {},
   "outputs": [
    {
     "data": {
      "text/plain": [
       "<Task pending coro=<get_reddit_top() running at <ipython-input-17-f5d558b0ed6a>:15>>"
      ]
     },
     "execution_count": 17,
     "metadata": {},
     "output_type": "execute_result"
    },
    {
     "name": "stdout",
     "output_type": "stream",
     "text": [
      "1452: Linus Torvalds on where Rust will fit into Linux (https://www.zdnet.com/article/linus-torvalds-on-where-rust-will-fit-into-linux/)\n",
      "998: Free software advocates seek removal of Richard Stallman and entire FSF board (https://arstechnica.com/tech-policy/2021/03/free-software-advocates-seek-removal-of-richard-stallman-and-entire-fsf-board/)\n",
      "310: TLS 1.0, 1.1 officially deprecated (https://datatracker.ietf.org/doc/rfc8996/)\n",
      "finished programming subreddit\n",
      "\n",
      "160: What exactly does a Computer Scientist (with a PhD or Masters) work on, compared to a regular software engineer? (https://www.reddit.com/r/compsci/comments/mbyctv/what_exactly_does_a_computer_scientist_with_a_phd/)\n",
      "2: [N] China's GPT-3? BAAI Introduces Superscale Intelligence Model 'Wu Dao 1.0' (https://www.reddit.com/r/compsci/comments/mbjgvy/n_chinas_gpt3_baai_introduces_superscale/)\n",
      "1: Those of you working as researchers in industry, how often are you allowed to publish your work? (https://www.reddit.com/r/compsci/comments/mc3g5k/those_of_you_working_as_researchers_in_industry/)\n",
      "finished compsci subreddit\n",
      "\n",
      "247: Started Learning Python A Week Ago, this is my first python program, any suggestions (https://www.reddit.com/r/Python/comments/mc05m5/started_learning_python_a_week_ago_this_is_my/)\n",
      "62: Build Your Own Python App to Track Amazon Prices (https://medium.com/dev-genius/build-your-own-python-app-to-track-amazon-prices-e0e1669bfa9e)\n",
      "58: Just trying to learn python, thought I’d make a BlackJack game to test my skills. I’m happy with it so I hope you might be too! If there is any ways I could improve or shorten it let me know. Enjoy! :) (https://www.reddit.com/r/Python/comments/mbszee/just_trying_to_learn_python_thought_id_make_a/)\n",
      "finished python subreddit\n",
      "\n"
     ]
    }
   ],
   "source": [
    "import asyncio  \n",
    "import json\n",
    "import signal\n",
    "\n",
    "import aiohttp \n",
    "\n",
    "loop = asyncio.get_event_loop()  \n",
    "client = aiohttp.ClientSession(loop=loop)\n",
    "\n",
    "async def get_json(client, url):  \n",
    "    async with client.get(url) as response:\n",
    "        assert response.status == 200\n",
    "        return await response.read()\n",
    "\n",
    "async def get_reddit_top(subreddit, client):  \n",
    "    data1 = await get_json(client, 'https://www.reddit.com/r/' + subreddit + '/top.json?sort=top&t=day&limit=3')\n",
    "\n",
    "    j = json.loads(data1.decode('utf-8'))\n",
    "    for i in j['data']['children']:\n",
    "        score = i['data']['score']\n",
    "        title = i['data']['title']\n",
    "        link = i['data']['url']\n",
    "        print(str(score) + ': ' + title + ' (' + link + ')')\n",
    "\n",
    "    print(f'finished {subreddit} subreddit\\n')\n",
    "\n",
    "def signal_handler(signal, frame):  \n",
    "    loop.stop()\n",
    "    client.close()\n",
    "\n",
    "signal.signal(signal.SIGINT, signal_handler)\n",
    "\n",
    "asyncio.ensure_future(get_reddit_top('python', client))  \n",
    "asyncio.ensure_future(get_reddit_top('programming', client))  \n",
    "asyncio.ensure_future(get_reddit_top('compsci', client))  "
   ]
  },
  {
   "cell_type": "markdown",
   "metadata": {},
   "source": [
    "### Библиотека multiprocessing"
   ]
  },
  {
   "cell_type": "code",
   "execution_count": 18,
   "metadata": {},
   "outputs": [
    {
     "name": "stdout",
     "output_type": "stream",
     "text": [
      "5 doubled to 10 by process id: 244888\n",
      "10 doubled to 20 by process id: 244890\n",
      "15 doubled to 30 by process id: 244894\n"
     ]
    }
   ],
   "source": [
    "from multiprocessing import Process\n",
    "import os\n",
    " \n",
    "def func(number):\n",
    "    result = number * 2\n",
    "    proc = os.getpid()\n",
    "    print('{} doubled to {} by process id: {}'.format(\n",
    "        number, result, proc))\n",
    "\n",
    "numbers = [5, 10, 15]\n",
    "procs = []\n",
    "    \n",
    "for index, number in enumerate(numbers):\n",
    "    proc = Process(target=func, args=(number,))\n",
    "    procs.append(proc)\n",
    "    proc.start()\n",
    "    \n",
    "for proc in procs:\n",
    "    proc.join()"
   ]
  },
  {
   "cell_type": "code",
   "execution_count": 19,
   "metadata": {},
   "outputs": [
    {
     "name": "stdout",
     "output_type": "stream",
     "text": [
      "5 doubled to 10 by: Process-16\n",
      "10 doubled to 20 by: Process-17\n",
      "15 doubled to 30 by: Process-18\n",
      "2 doubled to 4 by: example name\n"
     ]
    }
   ],
   "source": [
    "from multiprocessing import Process, current_process\n",
    "import os\n",
    "\n",
    "\n",
    "def func(number):\n",
    "    result = number * 2\n",
    "    proc_name = current_process().name\n",
    "    print('{} doubled to {} by: {}'.format(number, result, proc_name))\n",
    "\n",
    "numbers = [5, 10, 15]\n",
    "procs = []\n",
    "\n",
    "for index, number in enumerate(numbers):\n",
    "    proc = Process(target=func, args=(number,))\n",
    "    procs.append(proc)\n",
    "    proc.start()\n",
    "    \n",
    "proc = Process(target=func, name='example name', args=(2,))\n",
    "proc.start()\n",
    "procs.append(proc)\n",
    "    \n",
    "for proc in procs:\n",
    "    proc.join()"
   ]
  },
  {
   "cell_type": "markdown",
   "metadata": {},
   "source": [
    "### Замки (Locks)\n",
    "Модуль `multiprocessing` поддерживает замки так же, как и модуль `threading`. Все что вам нужно, это импортировать `Lock`, повесить его, сделать что-нибудь и снять его."
   ]
  },
  {
   "cell_type": "code",
   "execution_count": 20,
   "metadata": {},
   "outputs": [
    {
     "name": "stdout",
     "output_type": "stream",
     "text": [
      "1\n",
      "2\n"
     ]
    }
   ],
   "source": [
    "from multiprocessing import Lock, Process, Value\n",
    "\n",
    "def func(store, lock):\n",
    "    lock.acquire()\n",
    "    store.value += 1  # safe mode\n",
    "    lock.release()\n",
    "\n",
    "store = Value('i', 1)\n",
    "lock = Lock()\n",
    "\n",
    "print(store.value)\n",
    "p = Process(target=func, args=(store, lock))\n",
    "p.start()\n",
    "p.join()\n",
    "print(store.value)"
   ]
  },
  {
   "cell_type": "markdown",
   "metadata": {},
   "source": [
    "### Логирование (Logging)"
   ]
  },
  {
   "cell_type": "code",
   "execution_count": 21,
   "metadata": {},
   "outputs": [
    {
     "name": "stderr",
     "output_type": "stream",
     "text": [
      "[INFO/Process-21] incref failed: [Errno 2] No such file or directory\n",
      "[INFO/Process-21] child process calling self.run()\n",
      "[INFO/Process-21] process shutting down\n",
      "[INFO/Process-21] process exiting with exitcode 0\n"
     ]
    }
   ],
   "source": [
    "import logging\n",
    "import multiprocessing\n",
    "\n",
    "def func(store, lock):\n",
    "    lock.acquire()\n",
    "    store.value += 1  # safe mode\n",
    "    lock.release()\n",
    "\n",
    "store = multiprocessing.Value('i', 1)\n",
    "lock = multiprocessing.Lock()\n",
    "\n",
    "logger = multiprocessing.log_to_stderr()\n",
    "logger.setLevel(logging.INFO)\n",
    "    \n",
    "p = multiprocessing.Process(target=func, args=(store, lock))\n",
    "p.start()\n",
    "p.join()\n",
    "\n",
    "logger.setLevel(logging.CRITICAL)"
   ]
  },
  {
   "cell_type": "markdown",
   "metadata": {},
   "source": [
    "## Класс Pool\n",
    "Класс Pool используется для показа пула рабочих процессов. Он включает в себя методы, которые позволяют вам разгружать задачи к рабочим процессам."
   ]
  },
  {
   "cell_type": "code",
   "execution_count": 22,
   "metadata": {},
   "outputs": [
    {
     "name": "stdout",
     "output_type": "stream",
     "text": [
      "[10, 20, 40]\n"
     ]
    }
   ],
   "source": [
    "from multiprocessing import Pool\n",
    "\n",
    "def func(number):\n",
    "    return number * 2\n",
    "\n",
    "numbers = [5, 10, 20]\n",
    "pool = Pool(processes=3)\n",
    "print(pool.map(func, numbers))"
   ]
  },
  {
   "cell_type": "markdown",
   "metadata": {},
   "source": [
    "### Связь между процессами"
   ]
  },
  {
   "cell_type": "code",
   "execution_count": 23,
   "metadata": {},
   "outputs": [
    {
     "name": "stdout",
     "output_type": "stream",
     "text": [
      "10\n",
      "20\n",
      "26\n",
      "-2\n"
     ]
    }
   ],
   "source": [
    "from multiprocessing import Process, Queue\n",
    "\n",
    "end = -1\n",
    " \n",
    "def func(q, end):\n",
    "    while True:\n",
    "        value = q.get()\n",
    "        processed = value * 2\n",
    "        print(processed)\n",
    "        if value == end:\n",
    "            break\n",
    "\n",
    "q = Queue()\n",
    "data = [5, 10, 13, -1]\n",
    "for item in data:\n",
    "    q.put(item)\n",
    "    \n",
    "p = Process(target=func, args=(q, end))\n",
    "p.start()\n",
    "    \n",
    "q.close()\n",
    "q.join_thread()\n",
    "\n",
    "p.join()"
   ]
  },
  {
   "cell_type": "markdown",
   "metadata": {},
   "source": [
    "### Lambda-функции\n",
    "**Lambda-функции** — это  анонимные функции, подчиняющиеся более строгому, но более лаконичному синтаксису, чем обычные функции Python."
   ]
  },
  {
   "cell_type": "markdown",
   "metadata": {},
   "source": [
    "Функция тождества (identity function), функция, которая возвращает свой аргумент, выражается стандартным определением функции Python с использованием ключевого слова def следующим образом:"
   ]
  },
  {
   "cell_type": "code",
   "execution_count": 24,
   "metadata": {},
   "outputs": [
    {
     "data": {
      "text/plain": [
       "<function __main__.<lambda>(x)>"
      ]
     },
     "execution_count": 24,
     "metadata": {},
     "output_type": "execute_result"
    }
   ],
   "source": [
    "lambda x: x"
   ]
  },
  {
   "cell_type": "code",
   "execution_count": 25,
   "metadata": {},
   "outputs": [],
   "source": [
    "def identity(x):\n",
    "    return x"
   ]
  },
  {
   "cell_type": "markdown",
   "metadata": {},
   "source": [
    "Функция, которая добавляет 1 к аргументу:"
   ]
  },
  {
   "cell_type": "code",
   "execution_count": 26,
   "metadata": {},
   "outputs": [
    {
     "data": {
      "text/plain": [
       "<function __main__.<lambda>(x)>"
      ]
     },
     "execution_count": 26,
     "metadata": {},
     "output_type": "execute_result"
    }
   ],
   "source": [
    "lambda x: x + 1"
   ]
  },
  {
   "cell_type": "code",
   "execution_count": 27,
   "metadata": {},
   "outputs": [
    {
     "data": {
      "text/plain": [
       "3"
      ]
     },
     "execution_count": 27,
     "metadata": {},
     "output_type": "execute_result"
    }
   ],
   "source": [
    "func = lambda x: x + 1\n",
    "func(2)"
   ]
  },
  {
   "cell_type": "code",
   "execution_count": 28,
   "metadata": {},
   "outputs": [
    {
     "data": {
      "text/plain": [
       "'Full name: Guido Van Rossum'"
      ]
     },
     "execution_count": 28,
     "metadata": {},
     "output_type": "execute_result"
    }
   ],
   "source": [
    "func = lambda first, last: f'Full name: {first.title()} {last.title()}'\n",
    "func('guido', 'van rossum')"
   ]
  },
  {
   "cell_type": "markdown",
   "metadata": {},
   "source": [
    "Выражение немедленного вызова функции (IIFE -- Immediately Invoked Function Expression, произносится \"iffy\")."
   ]
  },
  {
   "cell_type": "code",
   "execution_count": 29,
   "metadata": {},
   "outputs": [
    {
     "data": {
      "text/plain": [
       "5"
      ]
     },
     "execution_count": 29,
     "metadata": {},
     "output_type": "execute_result"
    }
   ],
   "source": [
    "(lambda x, y: x + y)(2, 3)"
   ]
  },
  {
   "cell_type": "markdown",
   "metadata": {},
   "source": [
    "Лямбда-функция может быть функцией более высокого порядка, принимая функцию (нормальную или лямбда-функцию) в качестве аргумента."
   ]
  },
  {
   "cell_type": "code",
   "execution_count": 30,
   "metadata": {},
   "outputs": [
    {
     "data": {
      "text/plain": [
       "6"
      ]
     },
     "execution_count": 30,
     "metadata": {},
     "output_type": "execute_result"
    }
   ],
   "source": [
    "high_ord_func = lambda x, func: x + func(x)\n",
    "high_ord_func(2, lambda x: x * x)"
   ]
  }
 ],
 "metadata": {
  "kernelspec": {
   "display_name": "Python 3",
   "language": "python",
   "name": "python3"
  },
  "language_info": {
   "codemirror_mode": {
    "name": "ipython",
    "version": 3
   },
   "file_extension": ".py",
   "mimetype": "text/x-python",
   "name": "python",
   "nbconvert_exporter": "python",
   "pygments_lexer": "ipython3",
   "version": "3.6.3"
  }
 },
 "nbformat": 4,
 "nbformat_minor": 4
}
