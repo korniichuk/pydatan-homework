{
 "cells": [
  {
   "cell_type": "markdown",
   "metadata": {},
   "source": [
    "# Многопоточность в Python"
   ]
  },
  {
   "cell_type": "markdown",
   "metadata": {},
   "source": [
    "## 1. Single process"
   ]
  },
  {
   "cell_type": "code",
   "execution_count": 1,
   "metadata": {},
   "outputs": [
    {
     "name": "stdout",
     "output_type": "stream",
     "text": [
      "1 1 2 3 5 8 13 21 34 55 89 144 233 377 610 987 1597 2584 4181 6765 10946 17711 28657 46368 75025 121393 196418 317811 514229 832040 1346269 2178309 3524578 5702887 9227465 14930352 24157817 39088169 63245986 102334155\n",
      "Duration: 57.268999982625246\n"
     ]
    }
   ],
   "source": [
    "import time\n",
    "\n",
    "\n",
    "def fib(n: int) -> int:\n",
    "    return fib(n-1) + fib(n-2) if n > 2 else 1\n",
    "\n",
    "\n",
    "final_fibonacci_number = 40\n",
    "\n",
    "tasks = list(range(1, final_fibonacci_number + 1))\n",
    "start_time = time.perf_counter()\n",
    "answers = []\n",
    "for number in tasks:\n",
    "    answers.append(fib(number))\n",
    "finish_time = time.perf_counter()\n",
    "print(*answers)\n",
    "print('Duration:', finish_time - start_time)"
   ]
  },
  {
   "cell_type": "markdown",
   "metadata": {},
   "source": [
    "### Распределение задач между потоками при помощи очереди\n",
    "Queue предоставляет нам механизм взаимодействия потоков между процессами FIFO (первым пришел — первым обслужен).\n",
    "Ниже пример, где \"воркеры\" выполняют вычисление чисел Фибоначчи.\n",
    "## 2. With `multiprocessing.Queue` for tasks\n",
    "Воркеры \"добывают\" себе задание из очереди и печатают результат на экран."
   ]
  },
  {
   "cell_type": "code",
   "execution_count": 2,
   "metadata": {},
   "outputs": [
    {
     "name": "stdout",
     "output_type": "stream",
     "text": [
      "worker 0, PID=246855: fib(1) = 1\n",
      "worker 0, PID=246855: fib(2) = 1\n",
      "worker 1, PID=246856: fib(3) = 2\n",
      "worker 0, PID=246855: fib(4) = 3\n",
      "worker 1, PID=246856: fib(5) = 5\n",
      "worker 0, PID=246855: fib(6) = 8\n",
      "worker 2, PID=246861: fib(7) = 13\n",
      "worker 1, PID=246856: fib(8) = 21\n",
      "worker 0, PID=246855: fib(9) = 34\n",
      "worker 1, PID=246856: fib(11) = 89\n",
      "worker 2, PID=246861: fib(10) = 55\n",
      "worker 0, PID=246855: fib(13) = 233\n",
      "worker 1, PID=246856: fib(14) = 377\n",
      "worker 3, PID=246870: fib(12) = 144\n",
      "worker 0, PID=246855: fib(16) = 987\n",
      "worker 1, PID=246856: fib(17) = 1597\n",
      "worker 3, PID=246870: fib(18) = 2584\n",
      "worker 0, PID=246855: fib(19) = 4181\n",
      "worker 1, PID=246856: fib(20) = 6765\n",
      "worker 2, PID=246861: fib(15) = 610\n",
      "worker 3, PID=246870: fib(21) = 10946\n",
      "worker 1, PID=246856: fib(22) = 17711\n",
      "worker 0, PID=246855: fib(23) = 28657\n",
      "worker 2, PID=246861: fib(24) = 46368\n",
      "worker 3, PID=246870: fib(25) = 75025\n",
      "worker 1, PID=246856: fib(26) = 121393\n",
      "worker 0, PID=246855: fib(27) = 196418\n",
      "worker 2, PID=246861: fib(28) = 317811\n",
      "worker 3, PID=246870: fib(29) = 514229\n",
      "worker 1, PID=246856: fib(30) = 832040\n",
      "worker 0, PID=246855: fib(31) = 1346269\n",
      "worker 2, PID=246861: fib(32) = 2178309\n",
      "worker 3, PID=246870: fib(33) = 3524578\n",
      "worker 1, PID=246856: fib(34) = 5702887\n",
      "worker 0, PID=246855: fib(35) = 9227465\n",
      "worker 2, PID=246861: fib(36) = 14930352\n",
      "worker 3, PID=246870: fib(37) = 24157817\n",
      "worker 1, PID=246856: fib(38) = 39088169\n",
      "worker 0, PID=246855: fib(39) = 63245986\n",
      "worker 2, PID=246861: fib(40) = 102334155\n",
      "Duration: 28.795653328299522\n"
     ]
    }
   ],
   "source": [
    "from multiprocessing import Process, Queue\n",
    "import os\n",
    "import time\n",
    "\n",
    "\n",
    "def worker(tasks: Queue, process_index: int):\n",
    "    def fib(n: int) -> int:\n",
    "        return fib(n-1) + fib(n-2) if n > 2 else 1\n",
    "    \n",
    "    while not tasks.empty():  # пока очередь не пуста выполняем одну очередную задачу\n",
    "        number = tasks.get()\n",
    "        answer = fib(number)\n",
    "        print(f\"worker {process_index}, PID={os.getpid()}: fib({number}) = {answer}\")\n",
    "\n",
    "\n",
    "workers_number = 4\n",
    "final_fibonacci_number = 40\n",
    "\n",
    "tasks = Queue()\n",
    "for n in range(1, final_fibonacci_number + 1):\n",
    "    tasks.put(n)\n",
    "\n",
    "workers = []\n",
    "for process_index in range(workers_number):\n",
    "    worker_process = Process(target=worker, args=(tasks, process_index,))\n",
    "    workers.append(worker_process)\n",
    "start_time = time.perf_counter()\n",
    "for worker_process in workers:\n",
    "    worker_process.start()\n",
    "for worker_process in workers:\n",
    "    worker_process.join()\n",
    "finish_time = time.perf_counter()\n",
    "print('Duration:', finish_time - start_time)"
   ]
  },
  {
   "cell_type": "markdown",
   "metadata": {},
   "source": [
    "## 3. With `multiprocessing.Queue` for tasks and answers\n",
    "Теперь не будем печатать результаты на экран, но сделаем очередь результатов:"
   ]
  },
  {
   "cell_type": "code",
   "execution_count": 3,
   "metadata": {},
   "outputs": [
    {
     "name": "stdout",
     "output_type": "stream",
     "text": [
      "1 1 2 3 5 8 13 21 34 55 89 144 233 377 610 987 1597 2584 4181 6765 10946 17711 28657 46368 75025 121393 196418 317811 514229 832040 1346269 2178309 3524578 5702887 9227465 14930352 24157817 39088169 63245986 102334155\n",
      "Duration: 28.084279399365187\n"
     ]
    }
   ],
   "source": [
    "from multiprocessing import Process, Queue\n",
    "import os\n",
    "import time\n",
    "\n",
    "\n",
    "def worker(tasks: Queue, answers: Queue, process_index: int):\n",
    "    def fib(n: int) -> int:\n",
    "        return fib(n-1) + fib(n-2) if n > 2 else 1\n",
    "    \n",
    "    while not tasks.empty():  # пока очередь не пуста выполняем одну очередную задачу\n",
    "        number = tasks.get()\n",
    "        answer = fib(number)\n",
    "        answers.put((process_index, os.getpid(), number, answer))\n",
    "\n",
    "        \n",
    "workers_number = 4\n",
    "final_fibonacci_number = 40\n",
    "\n",
    "tasks = Queue()\n",
    "answers = Queue()\n",
    "for n in range(1, final_fibonacci_number + 1):\n",
    "    tasks.put(n)\n",
    "\n",
    "workers = []\n",
    "for process_index in range(workers_number):\n",
    "    worker_process = Process(target=worker,\n",
    "                             args = (tasks, answers, process_index))\n",
    "    workers.append(worker_process)\n",
    "\n",
    "start_time = time.perf_counter()\n",
    "for worker_process in workers:\n",
    "    worker_process.start()\n",
    "for worker_process in workers:\n",
    "    worker_process.join()   \n",
    "finish_time = time.perf_counter()\n",
    "\n",
    "ordered_answers = []\n",
    "while not answers.empty():\n",
    "    process_index, pid, number, answer = answers.get()\n",
    "    ordered_answers.append((number, answer))\n",
    "ordered_answers.sort()\n",
    "print(*(answer for number, answer in ordered_answers))\n",
    "print('Duration:', finish_time - start_time)"
   ]
  },
  {
   "cell_type": "markdown",
   "metadata": {},
   "source": [
    "## 4. With `multiprocessing.Pool`\n",
    "Откажемся от явного использования `Process` и `Queue` в пользу `Pool`."
   ]
  },
  {
   "cell_type": "code",
   "execution_count": 4,
   "metadata": {},
   "outputs": [
    {
     "name": "stdout",
     "output_type": "stream",
     "text": [
      "1 1 2 3 5 8 13 21 34 55 89 144 233 377 610 987 1597 2584 4181 6765 10946 17711 28657 46368 75025 121393 196418 317811 514229 832040 1346269 2178309 3524578 5702887 9227465 14930352 24157817 39088169 63245986 102334155\n",
      "Duration: 27.256503265351057\n"
     ]
    }
   ],
   "source": [
    "from multiprocessing import Pool\n",
    "import os\n",
    "import time\n",
    "\n",
    "\n",
    "def fib(n: int) -> int:\n",
    "    return fib(n-1) + fib(n-2) if n > 2 else 1\n",
    "    \n",
    "\n",
    "workers_number = 4\n",
    "final_fibonacci_number = 40\n",
    "\n",
    "tasks = list(range(1, final_fibonacci_number + 1))\n",
    "start_time = time.perf_counter()\n",
    "with Pool(workers_number) as pool_of_processes:\n",
    "    answers = list(pool_of_processes.map(fib, tasks))\n",
    "finish_time = time.perf_counter()\n",
    "print(*answers)\n",
    "print('Duration:', finish_time - start_time)"
   ]
  },
  {
   "cell_type": "markdown",
   "metadata": {},
   "source": [
    "## 5. C++ version"
   ]
  },
  {
   "cell_type": "code",
   "execution_count": 5,
   "metadata": {},
   "outputs": [],
   "source": [
    "!g++ fibonacci.cpp"
   ]
  },
  {
   "cell_type": "code",
   "execution_count": 6,
   "metadata": {},
   "outputs": [
    {
     "name": "stdout",
     "output_type": "stream",
     "text": [
      "1 1 1 2 3 5 8 13 21 34 55 89 144 233 377 610 987 1597 2584 4181 6765 10946 17711 28657 46368 75025 121393 196418 317811 514229 832040 1346269 2178309 3524578 5702887 9227465 14930352 24157817 39088169 63245986 102334155 \r\n",
      "1.05user 0.00system 0:01.06elapsed 99%CPU (0avgtext+0avgdata 3324maxresident)k\r\n",
      "0inputs+0outputs (0major+122minor)pagefaults 0swaps\r\n"
     ]
    }
   ],
   "source": [
    "!time ./a.out"
   ]
  },
  {
   "cell_type": "markdown",
   "metadata": {},
   "source": [
    "## 6. Python plus C++"
   ]
  },
  {
   "cell_type": "code",
   "execution_count": 7,
   "metadata": {},
   "outputs": [],
   "source": [
    "!g++ -c -shared -fPIC fibonacci_func.cpp"
   ]
  },
  {
   "cell_type": "code",
   "execution_count": 8,
   "metadata": {},
   "outputs": [
    {
     "name": "stdout",
     "output_type": "stream",
     "text": [
      "g++ -shared fibonacci_func.o -o fibonacci_func.so -Wl,--whole-archive -Wl,--no-whole-archive\r\n"
     ]
    }
   ],
   "source": [
    "!make"
   ]
  },
  {
   "cell_type": "code",
   "execution_count": 9,
   "metadata": {},
   "outputs": [
    {
     "name": "stdout",
     "output_type": "stream",
     "text": [
      "1 1 2 3 5 8 13 21 34 55 89 144 233 377 610 987 1597 2584 4181 6765 10946 17711 28657 46368 75025 121393 196418 317811 514229 832040 1346269 2178309 3524578 5702887 9227465 14930352 24157817 39088169 63245986\n",
      "Duration: 0.8425645679235458\n"
     ]
    }
   ],
   "source": [
    "import ctypes\n",
    "from multiprocessing import Pool\n",
    "import os\n",
    "import time\n",
    "\n",
    "\n",
    "def fib(n: int) -> int:\n",
    "    return int(fibc.fib(ctypes.c_int64(n)))   # вызываю функцию на языке С++\n",
    "\n",
    "\n",
    "workers_number = 4\n",
    "final_fibonacci_number = 40\n",
    "\n",
    "fibc = ctypes.CDLL(os.path.abspath('fibonacci_func.so'))\n",
    "tasks = list(range(1, final_fibonacci_number))\n",
    "start_time = time.perf_counter()\n",
    "with Pool(workers_number) as pool_of_processes:\n",
    "        answers = list(pool_of_processes.map(fib, tasks))\n",
    "finish_time = time.perf_counter()\n",
    "print(*answers)\n",
    "print('Duration:', finish_time - start_time)"
   ]
  },
  {
   "cell_type": "markdown",
   "metadata": {},
   "source": [
    "## 7. KISS"
   ]
  },
  {
   "cell_type": "code",
   "execution_count": 10,
   "metadata": {},
   "outputs": [
    {
     "name": "stdout",
     "output_type": "stream",
     "text": [
      "0 1 1 2 3 5 8 13 21 34 55 89 144 233 377 610 987 1597 2584 4181 6765 10946 17711 28657 46368 75025 121393 196418 317811 514229 832040 1346269 2178309 3524578 5702887 9227465 14930352 24157817 39088169 63245986 102334155 \n",
      "Duration: 0.0009240768849849701\n"
     ]
    }
   ],
   "source": [
    "import time\n",
    "\n",
    "final_fibonacci_number = 40\n",
    "\n",
    "start_time = time.perf_counter()\n",
    "fib = [0, 1] + [None]*(final_fibonacci_number - 1)\n",
    "for i in range(2, final_fibonacci_number + 1):\n",
    "    fib[i] = fib[i-1] + fib[i-2]\n",
    "for i in range(0, final_fibonacci_number + 1):\n",
    "    print(fib[i], end=' ')\n",
    "finish_time = time.perf_counter()\n",
    "print('\\nDuration:', finish_time - start_time)"
   ]
  },
  {
   "cell_type": "markdown",
   "metadata": {},
   "source": [
    "## 8. With `numba`"
   ]
  },
  {
   "cell_type": "code",
   "execution_count": 11,
   "metadata": {},
   "outputs": [
    {
     "name": "stdout",
     "output_type": "stream",
     "text": [
      "\u001b[33mYou are using pip version 18.1, however version 21.0.1 is available.\r\n",
      "You should consider upgrading via the 'pip install --upgrade pip' command.\u001b[0m\r\n"
     ]
    }
   ],
   "source": [
    "!pip3 install --user --quiet numba"
   ]
  },
  {
   "cell_type": "code",
   "execution_count": 12,
   "metadata": {},
   "outputs": [
    {
     "name": "stdout",
     "output_type": "stream",
     "text": [
      "1 1 2 3 5 8 13 21 34 55 89 144 233 377 610 987 1597 2584 4181 6765 10946 17711 28657 46368 75025 121393 196418 317811 514229 832040 1346269 2178309 3524578 5702887 9227465 14930352 24157817 39088169 63245986 102334155\n",
      "Duration: 1.6005328372120857\n"
     ]
    }
   ],
   "source": [
    "import time\n",
    "\n",
    "from numba import jit\n",
    "\n",
    "\n",
    "@jit(nopython=True)\n",
    "def fib(n: int) -> int:\n",
    "    return fib(n-1) + fib(n-2) if n > 2 else 1\n",
    "\n",
    "\n",
    "final_fibonacci_number = 40\n",
    "\n",
    "tasks = list(range(1, final_fibonacci_number + 1))\n",
    "start_time = time.perf_counter()\n",
    "answers = []\n",
    "for number in tasks:\n",
    "    answers.append(fib(number))\n",
    "finish_time = time.perf_counter()\n",
    "print(*answers)\n",
    "print('Duration:', finish_time - start_time)"
   ]
  }
 ],
 "metadata": {
  "kernelspec": {
   "display_name": "Python 3",
   "language": "python",
   "name": "python3"
  },
  "language_info": {
   "codemirror_mode": {
    "name": "ipython",
    "version": 3
   },
   "file_extension": ".py",
   "mimetype": "text/x-python",
   "name": "python",
   "nbconvert_exporter": "python",
   "pygments_lexer": "ipython3",
   "version": "3.6.3"
  }
 },
 "nbformat": 4,
 "nbformat_minor": 4
}
