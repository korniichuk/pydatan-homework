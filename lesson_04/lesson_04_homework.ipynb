{
 "cells": [
  {
   "cell_type": "markdown",
   "metadata": {},
   "source": [
    "# Занятие 4: Сложность алгоритмов"
   ]
  },
  {
   "cell_type": "markdown",
   "metadata": {},
   "source": [
    "## 1. Оцените сложность кода:\n",
    "```python\n",
    "if test:\n",
    "    block 1\n",
    "else:\n",
    "    block 2\n",
    "```\n",
    "\n",
    "Если в условии `test` требуется умножение двух `n * n` матриц. Сложность `block 1` – O(N<sup>2</sup>), `block 2` – O(N)."
   ]
  },
  {
   "cell_type": "markdown",
   "metadata": {},
   "source": [
    "O(N<sup>3</sup>) + max(O(N<sup>2</sup>), O(N)) =  \n",
    "O(N<sup>3</sup>) + O(N<sup>2</sup>) =  \n",
    "O(N<sup>3</sup> + N<sup>2</sup>) =  \n",
    "O(N<sup>3</sup>)"
   ]
  },
  {
   "cell_type": "markdown",
   "metadata": {},
   "source": [
    "## 2. Оцените вычислительную сложность вычисления последовательности Фибоначчи"
   ]
  },
  {
   "cell_type": "code",
   "execution_count": 1,
   "metadata": {},
   "outputs": [],
   "source": [
    "final_fibonacci_number = 40  # 1 | O(1)\n",
    "\n",
    "fib = [0, 1] + [None] * (final_fibonacci_number - 1)  # 2 | O(N)\n",
    "for i in range(2, final_fibonacci_number + 1):  # 3 | O(N)\n",
    "    fib[i] = fib[i-1] + fib[i-2]  # 4 | O(1)"
   ]
  },
  {
   "cell_type": "markdown",
   "metadata": {},
   "source": [
    "**1:** `O(1)`\n",
    "\n",
    "**2:**  \n",
    "`[0, 1]`  -> `O(len(…))` --> `O(2)`  \n",
    "`final_fibonacci_number - 1` --> e.g. `3 - 1` --> `O(1)`  \n",
    "`[None]` = `O(len(…))` --> `O(1)`  \n",
    "`[None] * (final_fibonacci_number - 1)` --> e.g. `[None] * 3` --> `O(k N)` --> `O(N)`  \n",
    "`[0, 1] + [None] * (final_fibonacci_number - 1)` --> e.g. `[0, 1] + [None, None, None]` --> `O(len(…))` --> `O(N)`\n",
    "\n",
    "O(2) + O(1) + O(1) + O(N) + O(N) =  \n",
    "O(2 + 1 + 1 + N + N) = O(4 + 2N) = O(N)\n",
    "\n",
    "**3:**  \n",
    "`final_fibonacci_number + 1` --> e.g. `3 + 1` --> `O(1)`  \n",
    "`range(2, final_fibonacci_number + 1)` --> `O(len(…))` for `range()` function --> e.g. `O(N+1)` --> `O(N)`\n",
    "\n",
    "**4:**  \n",
    "`i - 1` --> `O(1)`  \n",
    "`i - 2` --> `O(1)`  \n",
    "`fib[i-1]` --> `O(1)`  \n",
    "`fib[i-2]` --> `O(1)`  \n",
    "`fib[i] = fib[i-1] + fib[i-2]` --> `O(1)`\n",
    "\n",
    "O(1) + O(1) + O(1) + O(1) + O(1) = O(1 + 1 + 1 + 1 + 1) = O(5) = O(1)\n",
    "\n",
    "**TOTAL**  \n",
    "`#1 + #2 + #3 + N * #4`  \n",
    "`#1 + #2 + #3 + O(N) * #4`  \n",
    "O(1) + O(N) + O(N) + O(N) * O(1) =  \n",
    "O(1) + O(N) + O(N) + O(N * 1) =  \n",
    "O(1) + O(N) + O(N) + O(N) =  \n",
    "O(1 + N + N + N) = O(1 + 3N) = O(N)"
   ]
  },
  {
   "cell_type": "markdown",
   "metadata": {},
   "source": [
    "## 3. Реализуйте сортировку пузырьком. Какова асимптотическая сложность алгоритма?"
   ]
  },
  {
   "cell_type": "code",
   "execution_count": 2,
   "metadata": {},
   "outputs": [],
   "source": [
    "def func(A):\n",
    "    flag = True  # 1\n",
    "    while flag:  # 2\n",
    "        flag = False  # 3\n",
    "        for i in range(len(A) - 2):  # 4\n",
    "            if A[i] > A[i+1]:  # 5\n",
    "                A[i], A[i+1] = A[i+1], A[i]  # 6\n",
    "                flag = True  # 7\n",
    "    return A  # 8"
   ]
  },
  {
   "cell_type": "markdown",
   "metadata": {},
   "source": [
    "**1:** `O(1)`  \n",
    "**2:** `O(N-1)` --> `O(N)`  \n",
    "**3:** `O(1)`  \n",
    "**4:** `O(N-2)` --> `O(N)`  \n",
    "**5:**  \n",
    "`A[i]` --> `O(1)`  \n",
    "`i + 1` --> `O(1)`  \n",
    "`A[i+1]` --> `O(1)`  \n",
    "`A[i] > A[i+1]` --> `O(1)`  \n",
    "`if A[i] > A[i+1]:` --> `O(1)`  \n",
    "O(1) + O(1) + O(1) + O(1) + O(1) = O(1 + 1 + 1 + 1 +1) = O(5) = O(1)\n",
    "\n",
    "**6:**\n",
    "`A[i]` --> `O(1)`  \n",
    "`i + 1` --> `O(1)`  \n",
    "`A[i+1]` --> `O(1)`  \n",
    "`i + 1` --> `O(1)`  \n",
    "`A[i+1]` --> `O(1)`  \n",
    "`A[i]` --> `O(1)`  \n",
    "`A[i], A[i+1] = A[i+1], A[i]` --> `O(3)` --> `O(1)`\n",
    "\n",
    "**7:** `O(1)`  \n",
    "**8:** `O(1)`\n",
    "\n",
    "**TOTAL**  \n",
    "`#1 + #2 + N * (#3 + #4 + N * (#5 + #6 + #7)) + #8`  \n",
    "`#1 + #2 + O(N) * (#3 + #4 + O(N) * (#5 + #6 + #7)) + #8`  \n",
    "O(1) + O(1) + O(N) * (O(1) + O(N) + O(N) * (O(1) + O(1) + O(1))) + O(1) =  \n",
    "O(2) + O(N) * (O(1) + O(N) + O(N) * O(3)) + O(1) =  \n",
    "O(3) + O(N) * (O(1) + O(N) + O(N) * O(3)) =  \n",
    "O(3) + O(N) * (O(1) + O(N) + O(3N)) =  \n",
    "O(3) + O(N) * O(1 + N + 3N) =  \n",
    "O(3) + O(N) * O(1 + 4N) =  \n",
    "O(3) + O(N + 4N<sup>2</sup>) =  \n",
    "O(3 + N + 4N<sup>2</sup>) =  \n",
    "O(N<sup>2</sup>)"
   ]
  },
  {
   "cell_type": "markdown",
   "metadata": {},
   "source": [
    "## 4. Необходимо написать функцию `calc_frac(number)`, которая принимает 1 аргумент — неотъемлемое целое число `number`, и возвращает список, содержащий 2 целых числа — числитель и знаменатель крупнейшей правильной несокращаемой дроби, для которой сумма числителя и знаменателя равна `number`. Вернуть `False`, если создать такую дробь невозможно. Оцените алгоритмическую сложность и сложность по памяти полученного алгоритма."
   ]
  },
  {
   "cell_type": "code",
   "execution_count": null,
   "metadata": {},
   "outputs": [],
   "source": []
  },
  {
   "cell_type": "markdown",
   "metadata": {},
   "source": [
    "## 5. Напишите функцию `sudoku(N)`, которая принимает 1 аргумент — положительное целое число `(1 <= N <= 42)`, и возвращает список списков — квадратную матрицу, представляющий судоку размерности `N`. Определите сложность алгоритма по памяти и времени."
   ]
  },
  {
   "cell_type": "code",
   "execution_count": null,
   "metadata": {},
   "outputs": [],
   "source": []
  }
 ],
 "metadata": {
  "kernelspec": {
   "display_name": "Python 3",
   "language": "python",
   "name": "python3"
  },
  "language_info": {
   "codemirror_mode": {
    "name": "ipython",
    "version": 3
   },
   "file_extension": ".py",
   "mimetype": "text/x-python",
   "name": "python",
   "nbconvert_exporter": "python",
   "pygments_lexer": "ipython3",
   "version": "3.6.3"
  }
 },
 "nbformat": 4,
 "nbformat_minor": 4
}
