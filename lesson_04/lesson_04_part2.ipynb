{
 "cells": [
  {
   "cell_type": "markdown",
   "metadata": {},
   "source": [
    "# Занятие 4: Сложность алгоритмов"
   ]
  },
  {
   "cell_type": "markdown",
   "metadata": {},
   "source": [
    "## Списки (lists)"
   ]
  },
  {
   "cell_type": "markdown",
   "metadata": {},
   "source": [
    "### O(1)"
   ]
  },
  {
   "cell_type": "markdown",
   "metadata": {},
   "source": [
    "- Получение элемента `l[i]`\n",
    "- Сохранение элемента `l[i] = 0`\n",
    "- Размер списка\t`len(l)`\n",
    "- Добавление элемента в конец списка `l.append(…)`\n",
    "- Удаление последнего элемента `l.pop(-1)`\n",
    "- Очищение списка `l.clear()`"
   ]
  },
  {
   "cell_type": "markdown",
   "metadata": {},
   "source": [
    "### O(b-a), где a и b - границы среза."
   ]
  },
  {
   "cell_type": "markdown",
   "metadata": {},
   "source": [
    "- Получение среза `l[a:b]`"
   ]
  },
  {
   "cell_type": "markdown",
   "metadata": {},
   "source": [
    "### O(len(...))"
   ]
  },
  {
   "cell_type": "markdown",
   "metadata": {},
   "source": [
    "- Расширение `l.extend(…)`\n",
    "- Создание `list(…)`"
   ]
  },
  {
   "cell_type": "markdown",
   "metadata": {},
   "source": [
    "### O(N)"
   ]
  },
  {
   "cell_type": "markdown",
   "metadata": {},
   "source": [
    "- Сравнение списков `l_1 == l_2`\n",
    "- Вставка `l[a:b] = …`\n",
    "- Удаление элемента `del l[i]`\n",
    "- Проверка наличия `x in/not in l`\n",
    "- Копирование `l.copy()`\n",
    "- Удаление значения `l.remove(…)`\n",
    "- Удаление элемента `l.pop(i)`\n",
    "- Получение минимального/максимального значения `min(l)/max(l)`\n",
    "- Разворачивание списка `l.reverse()`\n",
    "- Перебор `for v in l`"
   ]
  },
  {
   "cell_type": "markdown",
   "metadata": {},
   "source": [
    "### O(N * Log N)"
   ]
  },
  {
   "cell_type": "markdown",
   "metadata": {},
   "source": [
    "- Сортировка `l.sort()`"
   ]
  },
  {
   "cell_type": "markdown",
   "metadata": {},
   "source": [
    "### O(k N)"
   ]
  },
  {
   "cell_type": "markdown",
   "metadata": {},
   "source": [
    "- Умножение `k*l`"
   ]
  },
  {
   "cell_type": "markdown",
   "metadata": {},
   "source": [
    "## Множества (sets)"
   ]
  },
  {
   "cell_type": "markdown",
   "metadata": {},
   "source": [
    "### O(1)"
   ]
  },
  {
   "cell_type": "markdown",
   "metadata": {},
   "source": [
    "- Размер множества `len(s)`\n",
    "- Добавление элемента `s.add(…)`\n",
    "- Проверка наличия значения\t`x in/not in s`\n",
    "- Удаление значения `s.remove(…)`\n",
    "- Удаление значения `s.discard(…)`\n",
    "- Удаление значения `s.pop()`  # удаляемое значение выбирается случайно\n",
    "- Очищение множества `s.clear()`"
   ]
  },
  {
   "cell_type": "markdown",
   "metadata": {},
   "source": [
    "### O(len(...))"
   ]
  },
  {
   "cell_type": "markdown",
   "metadata": {},
   "source": [
    "- Создание `set(...)`\n",
    "- Сравнение множеств `s != t`  # O(len(s))\n",
    "- Сравнение множеств `s <= t`  # O(len(s))\n",
    "- Сравнение множеств `s >= t`  # O(len(t))"
   ]
  },
  {
   "cell_type": "markdown",
   "metadata": {},
   "source": [
    "### O(len(s)+len(t))\t"
   ]
  },
  {
   "cell_type": "markdown",
   "metadata": {},
   "source": [
    "- Объединение `s | t`\n",
    "- Пересечение `s & t`\n",
    "- Разность `s – t`\n",
    "- Симметричная разность\t`s ^ t`"
   ]
  },
  {
   "cell_type": "markdown",
   "metadata": {},
   "source": [
    "### O(N)"
   ]
  },
  {
   "cell_type": "markdown",
   "metadata": {},
   "source": [
    "- Перебор множества `for v in s`\n",
    "- Копирование `s.copy()`"
   ]
  },
  {
   "cell_type": "markdown",
   "metadata": {},
   "source": [
    "## Словари (dict и defaultdict)"
   ]
  },
  {
   "cell_type": "markdown",
   "metadata": {},
   "source": [
    "### O(1)"
   ]
  },
  {
   "cell_type": "markdown",
   "metadata": {},
   "source": [
    "- Получение элемента `d[k]`\n",
    "- Сохранение элемента `d[k] = v`\n",
    "- Размер словаря `len(d)`\n",
    "- Удаление элемента `del d[k]`\n",
    "- get/setdefault `d.get(k)`\n",
    "- Удаление `d.pop(k)`\n",
    "- Удаление `d.popitem()`\n",
    "- Очищение словаря `d.clear()`\n",
    "- Получение ключей `d.keys()`"
   ]
  },
  {
   "cell_type": "markdown",
   "metadata": {},
   "source": [
    "###  O(len(...))"
   ]
  },
  {
   "cell_type": "markdown",
   "metadata": {},
   "source": [
    "- Создание словаря `dict(…)`"
   ]
  },
  {
   "cell_type": "markdown",
   "metadata": {},
   "source": [
    "###  O(N)"
   ]
  },
  {
   "cell_type": "markdown",
   "metadata": {},
   "source": [
    "- Перебор элементов\t`for k in d`"
   ]
  },
  {
   "cell_type": "markdown",
   "metadata": {},
   "source": [
    "Тип `defaultdict` поддерживает все эти операции с теми же классами сложности. Таким образом, вызов конструктора в том случае, если значения не найдены в `defaultdict`, имеет сложность `O(1)`."
   ]
  },
  {
   "cell_type": "markdown",
   "metadata": {},
   "source": [
    "## Закон сложения для O-нотации"
   ]
  },
  {
   "cell_type": "markdown",
   "metadata": {},
   "source": [
    "`O(f(n)) + O(g(n)) = O(f(n) + g(n))`\n",
    "\n",
    "При сложении двух классов сложности складываются функции этих классов. \n",
    "\n",
    "`O(N) + O(log N) = O(N + log N) = O(N)`"
   ]
  },
  {
   "cell_type": "markdown",
   "metadata": {},
   "source": [
    "Вызов функции `f(…)` имеет сложность `O(N)`, а вызов `g(…)` – `O(N * log N)`. Давайте вызовим эти функции друг за другом. В итоге сложность действия будет равна:\n",
    "\n",
    "`O(N) + O(N * log N) = O(N + N * log N) = O(N * log N)`"
   ]
  },
  {
   "cell_type": "markdown",
   "metadata": {},
   "source": [
    "### Условия\n",
    "```python\n",
    "if test:\n",
    "    block 1\n",
    "else:\n",
    "    block 2\n",
    "```\n",
    "\n",
    "where:\n",
    "- `test`: O(N)\n",
    "- `block 1`: O(N<sup>2</sup>)\n",
    "- `block 2`: O(N)"
   ]
  },
  {
   "cell_type": "markdown",
   "metadata": {},
   "source": [
    "O(N) + max(O(N<sup>2</sup>), O(N)) = O(N) + O(N<sup>2</sup>) = O(N + N<sup>2</sup>) = O(N<sup>2</sup>)"
   ]
  },
  {
   "cell_type": "markdown",
   "metadata": {},
   "source": [
    "## Закон умножения для O-нотации"
   ]
  },
  {
   "cell_type": "markdown",
   "metadata": {},
   "source": [
    "`O(f(N)) * O(g(N)) = O(f(N) * g(N))`"
   ]
  },
  {
   "cell_type": "markdown",
   "metadata": {},
   "source": [
    "Предположим, некоторая функция `f(…)` имеет класс сложности O(N<sup>2</sup>). Выполним ее в цикле `N` раз:\n",
    "```python\n",
    "for i in range(N):\n",
    "    f(…)\n",
    "```"
   ]
  },
  {
   "cell_type": "markdown",
   "metadata": {},
   "source": [
    "O(N) * O(N<sup>2</sup>) = O(N * N<sup>2</sup>) = O(N<sup>3</sup>)"
   ]
  },
  {
   "cell_type": "markdown",
   "metadata": {},
   "source": [
    "Таким образом, это правило позволяет вычислять класс сложности для выполнения некоторого повторяющегося несколько раз выражения. Необходимо умножить класс сложности количества повторений на класс сложности самого выражения."
   ]
  },
  {
   "cell_type": "markdown",
   "metadata": {},
   "source": [
    "## Пример 1"
   ]
  },
  {
   "cell_type": "code",
   "execution_count": 1,
   "metadata": {},
   "outputs": [],
   "source": [
    "def is_unique1(alist):\n",
    "    for i in range(len(alist)):      # 1\n",
    "        if alist[i] in alist[i+1:]:  # 2\n",
    "            return False             # 3\n",
    "    return True                      # 4"
   ]
  },
  {
   "cell_type": "markdown",
   "metadata": {},
   "source": [
    "1. `O(N)` – для каждого индекса. Создание объекта range требует выполнения трех последовательных операций: вычисления аргументов, передачу их в `__init__` и выполнение тела `__init__`. Две последние имеют класс сложности `O(1)`. Сложность `len(alist)` также `O(1)`, поэтому общая сложность выражения `range(len(alist))` – `O(1) + O(1) + O(1) = O(1)`.\n",
    "2. `O(N)` – получение индекса + сложение + создание среза + проверка `in`: `O(1) + O(1) + O(N) + O(N) = O(N)`\n",
    "3. `O(1)` – в худшем случае никогда не выполняется, можно проигнорировать.\n",
    "4. `O(1)` – в худшем случае всегда выполняется."
   ]
  },
  {
   "cell_type": "markdown",
   "metadata": {},
   "source": [
    "O(N) * O(N) + O(1) = O(N<sup>2</sup>)"
   ]
  },
  {
   "cell_type": "markdown",
   "metadata": {},
   "source": [
    "Т. е. если размер списка увеличится вдвое, то выполнение функции займет в 4 раза больше времени."
   ]
  },
  {
   "cell_type": "markdown",
   "metadata": {},
   "source": [
    "## Пример 2"
   ]
  },
  {
   "cell_type": "code",
   "execution_count": 2,
   "metadata": {},
   "outputs": [],
   "source": [
    "def is_unique2(alist):\n",
    "    copy = list(alist)             # 1\n",
    "    copy.sort()                    # 2\n",
    "    for i in range(len(alist)-1):  # 3\n",
    "        if copy[i] == copy[i+1]:   # 4\n",
    "            return False           # 5\n",
    "    return True                    # 6"
   ]
  },
  {
   "cell_type": "markdown",
   "metadata": {},
   "source": [
    "1. `O(N)`.\n",
    "2. `O(N * log N)` – для быстрой сортировки.\n",
    "3. `O(N)` – на самом деле `N-1`, но это то же самое. Операции получения размера списка и вычитания имеют сложность `O(1)`.\n",
    "4. `O(1)` – сложение, две операции получения элемента по индексу и сравнение – все со сложностью `O(1)`.\n",
    "5. `O(1)` – в худшем случае никогда не выполняется.\n",
    "6. `O(1)` – в худшем случае всегда выполняется."
   ]
  },
  {
   "cell_type": "markdown",
   "metadata": {},
   "source": [
    "O(N) + O(N * log N) + O(N) * O(1) + O(1) =  \n",
    "O(N + N * log N + O(N * 1) + 1) =  \n",
    "O(N +  N* log N + N + 1) =  \n",
    "O(N * log N  + 2N + 1) =  \n",
    "O(N * log N)"
   ]
  },
  {
   "cell_type": "markdown",
   "metadata": {},
   "source": [
    "## Пример 3"
   ]
  },
  {
   "cell_type": "code",
   "execution_count": 3,
   "metadata": {},
   "outputs": [],
   "source": [
    "def is_unique3(alist):\n",
    "    aset = set(alist)               # O(N)\n",
    "    return len(aset) == len(alist)  # O(1)"
   ]
  },
  {
   "cell_type": "markdown",
   "metadata": {},
   "source": [
    "`O(N) + O(1) = O(N + 1) = O(N)`"
   ]
  },
  {
   "cell_type": "markdown",
   "metadata": {},
   "source": [
    "**Source:** https://proglib.io/p/slozhnost-algoritmov-i-operaciy-na-primere-python-2020-11-03"
   ]
  }
 ],
 "metadata": {
  "kernelspec": {
   "display_name": "Python 3",
   "language": "python",
   "name": "python3"
  },
  "language_info": {
   "codemirror_mode": {
    "name": "ipython",
    "version": 3
   },
   "file_extension": ".py",
   "mimetype": "text/x-python",
   "name": "python",
   "nbconvert_exporter": "python",
   "pygments_lexer": "ipython3",
   "version": "3.6.3"
  }
 },
 "nbformat": 4,
 "nbformat_minor": 4
}
